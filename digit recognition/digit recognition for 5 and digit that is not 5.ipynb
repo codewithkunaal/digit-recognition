{
 "cells": [
  {
   "cell_type": "markdown",
   "id": "62d633f2",
   "metadata": {},
   "source": [
    "## importing dataset "
   ]
  },
  {
   "cell_type": "code",
   "execution_count": 1,
   "id": "4e825645",
   "metadata": {},
   "outputs": [],
   "source": [
    "from sklearn.datasets import fetch_openml"
   ]
  },
  {
   "cell_type": "code",
   "execution_count": 2,
   "id": "4f0da33e",
   "metadata": {},
   "outputs": [],
   "source": [
    "mnist = fetch_openml(\"mnist_784\")"
   ]
  },
  {
   "cell_type": "code",
   "execution_count": 3,
   "id": "dfb8aba0",
   "metadata": {
    "scrolled": true
   },
   "outputs": [],
   "source": [
    "# mnist.data\n",
    "# mnist.target"
   ]
  },
  {
   "cell_type": "markdown",
   "id": "8f391b01",
   "metadata": {},
   "source": [
    "## separating features and labels"
   ]
  },
  {
   "cell_type": "code",
   "execution_count": 4,
   "id": "8f3f9eea",
   "metadata": {},
   "outputs": [],
   "source": [
    "X,y = mnist[\"data\"],mnist[\"target\"]"
   ]
  },
  {
   "cell_type": "markdown",
   "id": "083b150f",
   "metadata": {},
   "source": [
    "## cheking random digit and its image"
   ]
  },
  {
   "cell_type": "code",
   "execution_count": 5,
   "id": "0cb29173",
   "metadata": {},
   "outputs": [],
   "source": [
    "%matplotlib inline\n",
    "import matplotlib\n",
    "import matplotlib.pyplot as plt\n"
   ]
  },
  {
   "cell_type": "code",
   "execution_count": 6,
   "id": "071729f9",
   "metadata": {},
   "outputs": [
    {
     "data": {
      "text/plain": [
       "<matplotlib.image.AxesImage at 0x1d54d5ee820>"
      ]
     },
     "execution_count": 6,
     "metadata": {},
     "output_type": "execute_result"
    },
    {
     "data": {
      "image/png": "[encoded data removed]",
      "text/plain": [
       "<Figure size 432x288 with 1 Axes>"
      ]
     },
     "metadata": {
      "needs_background": "light"
     },
     "output_type": "display_data"
    }
   ],
   "source": [
    "import numpy as np\n",
    "random_digit = np.array(X.iloc[3984])\n",
    "random_image = random_digit.reshape(28,28)\n",
    "plt.imshow(random_image,cmap = matplotlib.cm.binary,interpolation=\"nearest\")"
   ]
  },
  {
   "cell_type": "code",
   "execution_count": 7,
   "id": "2d777fdc",
   "metadata": {
    "scrolled": false
   },
   "outputs": [
    {
     "data": {
      "text/plain": [
       "'4'"
      ]
     },
     "execution_count": 7,
     "metadata": {},
     "output_type": "execute_result"
    }
   ],
   "source": [
    "y[3984]"
   ]
  },
  {
   "cell_type": "markdown",
   "id": "1b85d77e",
   "metadata": {},
   "source": [
    "## scaling and splitting data"
   ]
  },
  {
   "cell_type": "code",
   "execution_count": 8,
   "id": "7d76ea53",
   "metadata": {},
   "outputs": [],
   "source": [
    "from sklearn.preprocessing import StandardScaler\n",
    "from sklearn.model_selection import train_test_split"
   ]
  },
  {
   "cell_type": "code",
   "execution_count": 9,
   "id": "48277192",
   "metadata": {},
   "outputs": [],
   "source": [
    "shuffle = np.random.permutation(8000)"
   ]
  },
  {
   "cell_type": "code",
   "execution_count": 10,
   "id": "fcbba022",
   "metadata": {},
   "outputs": [],
   "source": [
    "scale = StandardScaler()\n",
    "scaled_X = scale.fit_transform(X)"
   ]
  },
  {
   "cell_type": "code",
   "execution_count": 11,
   "id": "5670a0d9",
   "metadata": {},
   "outputs": [],
   "source": [
    "x_train,x_test,y_train,y_test = train_test_split(scaled_X,y,test_size=0.3,random_state=42)"
   ]
  },
  {
   "cell_type": "markdown",
   "id": "1d5bca54",
   "metadata": {},
   "source": [
    "### checking if digit is 5"
   ]
  },
  {
   "cell_type": "code",
   "execution_count": 12,
   "id": "a5e1fd3d",
   "metadata": {},
   "outputs": [],
   "source": [
    "y_train = y_train.astype(np.int8)\n",
    "y_test = y_test.astype(np.int8)\n",
    "train_5 = (y_train==5) \n",
    "test_5  = (y_test==5 )"
   ]
  },
  {
   "cell_type": "markdown",
   "id": "1b909fba",
   "metadata": {},
   "source": [
    "## model selection"
   ]
  },
  {
   "cell_type": "code",
   "execution_count": 13,
   "id": "57589258",
   "metadata": {},
   "outputs": [],
   "source": [
    "from sklearn.linear_model import LogisticRegression"
   ]
  },
  {
   "cell_type": "code",
   "execution_count": 14,
   "id": "b36badfb",
   "metadata": {},
   "outputs": [
    {
     "data": {
      "text/plain": [
       "LogisticRegression(max_iter=1000, tol=0.1)"
      ]
     },
     "execution_count": 14,
     "metadata": {},
     "output_type": "execute_result"
    }
   ],
   "source": [
    "model = LogisticRegression(tol=0.1,solver=\"lbfgs\",max_iter=1000)\n",
    "model.fit(x_train,train_5)"
   ]
  },
  {
   "cell_type": "code",
   "execution_count": 15,
   "id": "f0776817",
   "metadata": {
    "scrolled": true
   },
   "outputs": [
    {
     "data": {
      "text/plain": [
       "array([False])"
      ]
     },
     "execution_count": 15,
     "metadata": {},
     "output_type": "execute_result"
    }
   ],
   "source": [
    "model.predict([random_digit])"
   ]
  },
  {
   "cell_type": "markdown",
   "id": "ef384530",
   "metadata": {},
   "source": [
    "## checking accuracy of model"
   ]
  },
  {
   "cell_type": "code",
   "execution_count": 16,
   "id": "a39e3fff",
   "metadata": {},
   "outputs": [],
   "source": [
    "from sklearn.model_selection import cross_val_score"
   ]
  },
  {
   "cell_type": "code",
   "execution_count": 17,
   "id": "d5dc7e75",
   "metadata": {
    "scrolled": true
   },
   "outputs": [],
   "source": [
    "cv = cross_val_score(model,x_train,train_5,cv= 4,scoring=\"accuracy\")"
   ]
  },
  {
   "cell_type": "code",
   "execution_count": 18,
   "id": "e561a39f",
   "metadata": {
    "scrolled": true
   },
   "outputs": [
    {
     "data": {
      "text/plain": [
       "0.9741224489795918"
      ]
     },
     "execution_count": 18,
     "metadata": {},
     "output_type": "execute_result"
    }
   ],
   "source": [
    "cv.mean()"
   ]
  },
  {
   "cell_type": "markdown",
   "id": "1eb04e43",
   "metadata": {},
   "source": [
    "### for digit that is not 5"
   ]
  },
  {
   "cell_type": "code",
   "execution_count": 19,
   "id": "8ad2d657",
   "metadata": {},
   "outputs": [],
   "source": [
    "n5_train =(y_train!=5)\n",
    "n5_test = (y_test!=5)"
   ]
  },
  {
   "cell_type": "code",
   "execution_count": 20,
   "id": "372f08ed",
   "metadata": {},
   "outputs": [
    {
     "data": {
      "text/plain": [
       "LogisticRegression(max_iter=1000, tol=0.1)"
      ]
     },
     "execution_count": 20,
     "metadata": {},
     "output_type": "execute_result"
    }
   ],
   "source": [
    "clf = LogisticRegression(tol=0.1,solver=\"lbfgs\",max_iter=1000)\n",
    "clf.fit(x_train,n5_train)"
   ]
  },
  {
   "cell_type": "code",
   "execution_count": 21,
   "id": "504c9aaa",
   "metadata": {},
   "outputs": [],
   "source": [
    "predicted = clf.predict(x_test)"
   ]
  },
  {
   "cell_type": "code",
   "execution_count": 22,
   "id": "40324d2c",
   "metadata": {},
   "outputs": [
    {
     "data": {
      "text/plain": [
       "array([ True,  True, False, ...,  True,  True, False])"
      ]
     },
     "execution_count": 22,
     "metadata": {},
     "output_type": "execute_result"
    }
   ],
   "source": [
    "predicted"
   ]
  },
  {
   "cell_type": "markdown",
   "id": "80d6b7d3",
   "metadata": {},
   "source": [
    "### calculating accuracy for prediction of digit as not 5"
   ]
  },
  {
   "cell_type": "code",
   "execution_count": 23,
   "id": "bad9834a",
   "metadata": {},
   "outputs": [],
   "source": [
    "from sklearn.metrics import confusion_matrix\n",
    "from sklearn.metrics import precision_score,recall_score,f1_score\n",
    "from sklearn.model_selection import cross_val_predict"
   ]
  },
  {
   "cell_type": "code",
   "execution_count": 24,
   "id": "619500cf",
   "metadata": {},
   "outputs": [],
   "source": [
    "cvp = cross_val_predict(clf,x_train,n5_train,cv=10)"
   ]
  },
  {
   "cell_type": "code",
   "execution_count": 25,
   "id": "91342498",
   "metadata": {
    "scrolled": true
   },
   "outputs": [
    {
     "data": {
      "text/plain": [
       "array([ True,  True,  True, ...,  True,  True,  True])"
      ]
     },
     "execution_count": 25,
     "metadata": {},
     "output_type": "execute_result"
    }
   ],
   "source": [
    "cvp"
   ]
  },
  {
   "cell_type": "markdown",
   "id": "3ab8f555",
   "metadata": {},
   "source": [
    "### confusion matrix"
   ]
  },
  {
   "cell_type": "code",
   "execution_count": 26,
   "id": "77c5200a",
   "metadata": {},
   "outputs": [
    {
     "data": {
      "text/plain": [
       "array([[ 3597,   801],\n",
       "       [  469, 44133]], dtype=int64)"
      ]
     },
     "execution_count": 26,
     "metadata": {},
     "output_type": "execute_result"
    }
   ],
   "source": [
    "cm = confusion_matrix(n5_train,cvp)\n",
    "cm"
   ]
  },
  {
   "cell_type": "markdown",
   "id": "2bf02bb3",
   "metadata": {},
   "source": [
    "### precision score"
   ]
  },
  {
   "cell_type": "code",
   "execution_count": 27,
   "id": "6c9258f6",
   "metadata": {},
   "outputs": [
    {
     "data": {
      "text/plain": [
       "0.9821738549873147"
      ]
     },
     "execution_count": 27,
     "metadata": {},
     "output_type": "execute_result"
    }
   ],
   "source": [
    "precision_score(n5_train,cvp)"
   ]
  },
  {
   "cell_type": "markdown",
   "id": "bc738c99",
   "metadata": {},
   "source": [
    "### recall score"
   ]
  },
  {
   "cell_type": "code",
   "execution_count": 28,
   "id": "b8cce497",
   "metadata": {},
   "outputs": [
    {
     "data": {
      "text/plain": [
       "0.9894847764674229"
      ]
     },
     "execution_count": 28,
     "metadata": {},
     "output_type": "execute_result"
    }
   ],
   "source": [
    "recall_score(n5_train,cvp)"
   ]
  },
  {
   "cell_type": "markdown",
   "id": "b12960e6",
   "metadata": {},
   "source": [
    "### f1 score"
   ]
  },
  {
   "cell_type": "code",
   "execution_count": 29,
   "id": "9c4d545c",
   "metadata": {},
   "outputs": [
    {
     "data": {
      "text/plain": [
       "0.9858157612580415"
      ]
     },
     "execution_count": 29,
     "metadata": {},
     "output_type": "execute_result"
    }
   ],
   "source": [
    "f1_score(n5_train,cvp)"
   ]
  },
  {
   "cell_type": "code",
   "execution_count": null,
   "id": "59220a08",
   "metadata": {},
   "outputs": [],
   "source": []
  }
 ],
 "metadata": {
  "kernelspec": {
   "display_name": "Python 3 (ipykernel)",
   "language": "python",
   "name": "python3"
  },
  "language_info": {
   "codemirror_mode": {
    "name": "ipython",
    "version": 3
   },
   "file_extension": ".py",
   "mimetype": "text/x-python",
   "name": "python",
   "nbconvert_exporter": "python",
   "pygments_lexer": "ipython3",
   "version": "3.9.6"
  }
 },
 "nbformat": 4,
 "nbformat_minor": 5
}
