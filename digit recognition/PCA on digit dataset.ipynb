{
 "cells": [
  {
   "cell_type": "code",
   "execution_count": 1,
   "id": "c7a1c0ed",
   "metadata": {},
   "outputs": [],
   "source": [
    "#reducing the number of features in a dataset then checking model's accuracy \n",
    "\n",
    "#importing modules\n",
    "from sklearn import datasets\n",
    "import pandas as pd\n",
    "import matplotlib.pyplot as plt\n",
    "import numpy as np\n",
    "from sklearn.preprocessing import StandardScaler\n",
    "from sklearn.model_selection import train_test_split\n",
    "from sklearn.linear_model import LogisticRegression\n",
    "from sklearn.decomposition import PCA"
   ]
  },
  {
   "cell_type": "code",
   "execution_count": 2,
   "id": "6b990b77",
   "metadata": {},
   "outputs": [
    {
     "data": {
      "text/plain": [
       "(1797, 64)"
      ]
     },
     "execution_count": 2,
     "metadata": {},
     "output_type": "execute_result"
    }
   ],
   "source": [
    "#loading dataset\n",
    "data = datasets.load_digits()\n",
    "# data.keys()\n",
    "data.data[:].shape"
   ]
  },
  {
   "cell_type": "code",
   "execution_count": 3,
   "id": "0f756661",
   "metadata": {},
   "outputs": [
    {
     "data": {
      "text/plain": [
       "array([[ 0.,  0.,  5., 13.,  9.,  1.,  0.,  0.],\n",
       "       [ 0.,  0., 13., 15., 10., 15.,  5.,  0.],\n",
       "       [ 0.,  3., 15.,  2.,  0., 11.,  8.,  0.],\n",
       "       [ 0.,  4., 12.,  0.,  0.,  8.,  8.,  0.],\n",
       "       [ 0.,  5.,  8.,  0.,  0.,  9.,  8.,  0.],\n",
       "       [ 0.,  4., 11.,  0.,  1., 12.,  7.,  0.],\n",
       "       [ 0.,  2., 14.,  5., 10., 12.,  0.,  0.],\n",
       "       [ 0.,  0.,  6., 13., 10.,  0.,  0.,  0.]])"
      ]
     },
     "execution_count": 3,
     "metadata": {},
     "output_type": "execute_result"
    }
   ],
   "source": [
    "#reshaping to plot\n",
    "data.data[0].reshape(8,8)"
   ]
  },
  {
   "cell_type": "code",
   "execution_count": 4,
   "id": "7c2ef6b0",
   "metadata": {},
   "outputs": [
    {
     "data": {
      "text/plain": [
       "4"
      ]
     },
     "execution_count": 4,
     "metadata": {},
     "output_type": "execute_result"
    },
    {
     "data": {
      "text/plain": [
       "<Figure size 432x288 with 0 Axes>"
      ]
     },
     "metadata": {},
     "output_type": "display_data"
    },
    {
     "data": {
      "image/png": "[encoded data removed]",
      "text/plain": [
       "<Figure size 288x288 with 1 Axes>"
      ]
     },
     "metadata": {
      "needs_background": "light"
     },
     "output_type": "display_data"
    }
   ],
   "source": [
    "%matplotlib inline\n",
    "plt.gray()\n",
    "plt.matshow(data.data[64].reshape(8,8))\n",
    "data.target[64]"
   ]
  },
  {
   "cell_type": "code",
   "execution_count": 5,
   "id": "6115abe7",
   "metadata": {},
   "outputs": [],
   "source": [
    "# np.unique(data.target) #shows all targets available into an numpy array"
   ]
  },
  {
   "cell_type": "code",
   "execution_count": 6,
   "id": "05801bd2",
   "metadata": {},
   "outputs": [],
   "source": [
    "#making dataframe of data\n",
    "df = pd.DataFrame(data.data,columns= data.feature_names)"
   ]
  },
  {
   "cell_type": "code",
   "execution_count": 7,
   "id": "bb35c801",
   "metadata": {},
   "outputs": [],
   "source": [
    "X = df\n",
    "y = data.target"
   ]
  },
  {
   "cell_type": "code",
   "execution_count": 8,
   "id": "3ffb7a8b",
   "metadata": {},
   "outputs": [],
   "source": [
    "scale = StandardScaler()\n",
    "scaled_X  = scale.fit_transform(X)\n",
    "# scaled_X.shape"
   ]
  },
  {
   "cell_type": "code",
   "execution_count": 9,
   "id": "976d3497",
   "metadata": {},
   "outputs": [],
   "source": [
    "#train_test_split of data and labels\n",
    "X_train,X_test,y_train,y_test = train_test_split(scaled_X,y,test_size=0.2,random_state=42)"
   ]
  },
  {
   "cell_type": "code",
   "execution_count": 10,
   "id": "2fe251ad",
   "metadata": {},
   "outputs": [
    {
     "data": {
      "text/plain": [
       "0.9722222222222222"
      ]
     },
     "execution_count": 10,
     "metadata": {},
     "output_type": "execute_result"
    }
   ],
   "source": [
    "#model selection and accuracy check\n",
    "model = LogisticRegression()\n",
    "model.fit(X_train,y_train)\n",
    "model.score(X_test,y_test)"
   ]
  },
  {
   "cell_type": "code",
   "execution_count": 11,
   "id": "a5c019ab",
   "metadata": {},
   "outputs": [],
   "source": [
    "#reducing the dimentions of the data\n",
    "Pca = PCA(n_components=30)"
   ]
  },
  {
   "cell_type": "code",
   "execution_count": 12,
   "id": "3cba5e23",
   "metadata": {},
   "outputs": [
    {
     "data": {
      "text/plain": [
       "(1797, 30)"
      ]
     },
     "execution_count": 12,
     "metadata": {},
     "output_type": "execute_result"
    }
   ],
   "source": [
    "X_pca = Pca.fit_transform(X)\n",
    "X_pca.shape"
   ]
  },
  {
   "cell_type": "code",
   "execution_count": 13,
   "id": "947d8574",
   "metadata": {},
   "outputs": [],
   "source": [
    "# X.shape"
   ]
  },
  {
   "cell_type": "code",
   "execution_count": 14,
   "id": "8e05662e",
   "metadata": {},
   "outputs": [],
   "source": [
    "pca_train,pca_test,y_train,y_test = train_test_split(X_pca,y,test_size=0.2,random_state=42,)"
   ]
  },
  {
   "cell_type": "code",
   "execution_count": 15,
   "id": "daf2e732",
   "metadata": {},
   "outputs": [
    {
     "data": {
      "text/plain": [
       "0.9638888888888889"
      ]
     },
     "execution_count": 15,
     "metadata": {},
     "output_type": "execute_result"
    }
   ],
   "source": [
    "model = LogisticRegression(max_iter=1000)\n",
    "model.fit(pca_train,y_train)\n",
    "model.score(pca_test,y_test)"
   ]
  },
  {
   "cell_type": "code",
   "execution_count": null,
   "id": "ffc5726e",
   "metadata": {},
   "outputs": [],
   "source": []
  }
 ],
 "metadata": {
  "kernelspec": {
   "display_name": "Python 3 (ipykernel)",
   "language": "python",
   "name": "python3"
  },
  "language_info": {
   "codemirror_mode": {
    "name": "ipython",
    "version": 3
   },
   "file_extension": ".py",
   "mimetype": "text/x-python",
   "name": "python",
   "nbconvert_exporter": "python",
   "pygments_lexer": "ipython3",
   "version": "3.9.6"
  }
 },
 "nbformat": 4,
 "nbformat_minor": 5
}
